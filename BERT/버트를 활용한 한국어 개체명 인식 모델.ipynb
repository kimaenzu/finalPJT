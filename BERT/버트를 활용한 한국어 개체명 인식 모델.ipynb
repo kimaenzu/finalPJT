{
 "cells": [
  {
   "cell_type": "markdown",
   "id": "3c346d6f",
   "metadata": {},
   "source": [
    "# # 텍스트 유사도\n",
    "(p.229) 생략 - 영어 예제\n",
    "\n",
    "# 챗봇 (p.278)\n",
    "\n",
    "중요한건 NER 객체 어쩌구랑 묘사 단어를 얼마나 잘 뽑느냐가 궁금하다고 하지 않았었나 ?\n",
    "\n",
    "(p.390) 참고\n",
    "\n",
    "p.401\n",
    "\n",
    "# 버트를 활용한 한국어 개체명 인식 모델\n",
    "## 개체명 인식 (NER : Named Entity Recognition)\n",
    "문맥을 파악해서 인명, 기관명, 지명 등과 같은 문장 또는 문서에서 특장한 의미를 가지고 있는 단어 또는 어구를 인식하는 과정을 말한다. 감정 분류 및 유사도 분류와 맥락은 거의 비슷하나 마지막 히든 벡터값을 사용하는 방법과는 다르게 문장의 모든 입력 값을 개체명으로 예측해야 하기 때문에 모든 은닉 벡터 값을 활용한다."
   ]
  },
  {
   "cell_type": "code",
   "execution_count": 1,
   "id": "cd4d7973",
   "metadata": {},
   "outputs": [],
   "source": [
    "import os\n",
    "import pandas as pd\n",
    "import numpy as np\n",
    "import matplotlib.pyplot as plt\n",
    "import seaborn as sns\n",
    "from transformers import BertTokenizer\n",
    "import tensorflow as tf"
   ]
  },
  {
   "cell_type": "code",
   "execution_count": 2,
   "id": "e87f7c5a",
   "metadata": {},
   "outputs": [],
   "source": [
    "DATA_IN_PATH = 'c:/BERT/data_in/'\n",
    "DATA_TRAIN_PATH = os.path.join(DATA_IN_PATH, \"NER\", 'train.tsv')\n",
    "DATA_TEST_PATH = os.path.join(DATA_IN_PATH, \"NER\", 'test.tsv')\n",
    "DATA_LABEL_PATH = os.path.join(DATA_IN_PATH, \"NER\", 'label.tsv')"
   ]
  },
  {
   "cell_type": "code",
   "execution_count": 3,
   "id": "2b6aec7f",
   "metadata": {},
   "outputs": [],
   "source": [
    "def read_file(input_path):\n",
    "    \"\"\"Read tsv file, and return words and label as list\"\"\"\n",
    "    with open(input_path, 'r', encoding='utf-8') as f:\n",
    "        sentences = []\n",
    "        labels = []\n",
    "        for line in f:\n",
    "            split_line = line.strip().split('\\t')\n",
    "            sentences.append(split_line[0])\n",
    "            labels.append(split_line[1])\n",
    "        return sentences, labels\n",
    "\n",
    "train_sentences, train_labels = read_file(DATA_TRAIN_PATH)\n",
    "test_sentences, test_labels = read_file(DATA_TEST_PATH)\n",
    "ner_sentences = train_sentences + test_sentences\n",
    "ner_labels = train_labels + test_labels\n",
    "\n",
    "ner_dict = {\"sentence\":ner_sentences, \"label\":ner_labels}\n",
    "ner_df = pd.DataFrame(ner_dict)"
   ]
  },
  {
   "cell_type": "code",
   "execution_count": 4,
   "id": "69590413",
   "metadata": {},
   "outputs": [
    {
     "name": "stdout",
     "output_type": "stream",
     "text": [
      "전체 ner_train_data 개수 : 90000\n"
     ]
    },
    {
     "data": {
      "text/html": [
       "<div>\n",
       "<style scoped>\n",
       "    .dataframe tbody tr th:only-of-type {\n",
       "        vertical-align: middle;\n",
       "    }\n",
       "\n",
       "    .dataframe tbody tr th {\n",
       "        vertical-align: top;\n",
       "    }\n",
       "\n",
       "    .dataframe thead th {\n",
       "        text-align: right;\n",
       "    }\n",
       "</style>\n",
       "<table border=\"1\" class=\"dataframe\">\n",
       "  <thead>\n",
       "    <tr style=\"text-align: right;\">\n",
       "      <th></th>\n",
       "      <th>sentence</th>\n",
       "      <th>label</th>\n",
       "    </tr>\n",
       "  </thead>\n",
       "  <tbody>\n",
       "    <tr>\n",
       "      <th>0</th>\n",
       "      <td>금석객잔 여러분, 감사드립니다 .</td>\n",
       "      <td>ORG-B O O O</td>\n",
       "    </tr>\n",
       "    <tr>\n",
       "      <th>1</th>\n",
       "      <td>이기범 한두 쪽을 먹고 10분 후쯤 화제인을 먹는 것이 좋다고 한다 .</td>\n",
       "      <td>PER-B O O O TIM-B TIM-I CVL-B O O O O O</td>\n",
       "    </tr>\n",
       "    <tr>\n",
       "      <th>2</th>\n",
       "      <td>7-8위 결정전에서 김중배 무스파타(샌안토니오)가 참은 법국을 누르고 유럽축구선수권...</td>\n",
       "      <td>EVT-B EVT-I PER-B PER-I O LOC-B O EVT-B CVL-B O O</td>\n",
       "    </tr>\n",
       "    <tr>\n",
       "      <th>3</th>\n",
       "      <td>스코틀랜드의 한 마을에서 보통하게 살고 있다는 이 기혼 남성의 시조가 유튜브 등에서...</td>\n",
       "      <td>LOC-B NUM-B NUM-I O O O O O O O O O O O O O CV...</td>\n",
       "    </tr>\n",
       "    <tr>\n",
       "      <th>4</th>\n",
       "      <td>보니까 저 옆에 사조가 있어요 .</td>\n",
       "      <td>O O O O O O</td>\n",
       "    </tr>\n",
       "  </tbody>\n",
       "</table>\n",
       "</div>"
      ],
      "text/plain": [
       "                                            sentence  \\\n",
       "0                                 금석객잔 여러분, 감사드립니다 .   \n",
       "1            이기범 한두 쪽을 먹고 10분 후쯤 화제인을 먹는 것이 좋다고 한다 .   \n",
       "2  7-8위 결정전에서 김중배 무스파타(샌안토니오)가 참은 법국을 누르고 유럽축구선수권...   \n",
       "3  스코틀랜드의 한 마을에서 보통하게 살고 있다는 이 기혼 남성의 시조가 유튜브 등에서...   \n",
       "4                                 보니까 저 옆에 사조가 있어요 .   \n",
       "\n",
       "                                               label  \n",
       "0                                        ORG-B O O O  \n",
       "1            PER-B O O O TIM-B TIM-I CVL-B O O O O O  \n",
       "2  EVT-B EVT-I PER-B PER-I O LOC-B O EVT-B CVL-B O O  \n",
       "3  LOC-B NUM-B NUM-I O O O O O O O O O O O O O CV...  \n",
       "4                                        O O O O O O  "
      ]
     },
     "execution_count": 4,
     "metadata": {},
     "output_type": "execute_result"
    }
   ],
   "source": [
    "print(f'전체 ner_train_data 개수 : {len(ner_df)}')\n",
    "ner_df.head(5)"
   ]
  },
  {
   "cell_type": "markdown",
   "id": "51c496c2",
   "metadata": {},
   "source": [
    "개체명 인식에서 기존의 분류 문제와는 다른 BIO 태깅을 활용한다.  \n",
    "B(Begin) - I(Inside) - O(Outside)   \n",
    "개체명 시작 - 내부 - 개체명이 아닌 부분  \n",
    "각 태깅은 문장에서 개체명으로서 의미 있는 토큰들의 위치를 인식할 수 있게 도와준다.  \n",
    "\n",
    "# 한국어 개체명 텍스트 분석"
   ]
  },
  {
   "cell_type": "code",
   "execution_count": 5,
   "id": "9a41b90f",
   "metadata": {},
   "outputs": [
    {
     "data": {
      "text/plain": [
       "0                                   금석객잔 여러분, 감사드립니다 .\n",
       "1              이기범 한두 쪽을 먹고 10분 후쯤 화제인을 먹는 것이 좋다고 한다 .\n",
       "2    7-8위 결정전에서 김중배 무스파타(샌안토니오)가 참은 법국을 누르고 유럽축구선수권...\n",
       "3    스코틀랜드의 한 마을에서 보통하게 살고 있다는 이 기혼 남성의 시조가 유튜브 등에서...\n",
       "4                                   보니까 저 옆에 사조가 있어요 .\n",
       "dtype: object"
      ]
     },
     "execution_count": 5,
     "metadata": {},
     "output_type": "execute_result"
    }
   ],
   "source": [
    "train_set = pd.Series(ner_df['sentence'].tolist()).astype(str)\n",
    "train_set.head()"
   ]
  },
  {
   "cell_type": "code",
   "execution_count": 6,
   "id": "c6e3ad98",
   "metadata": {
    "scrolled": true
   },
   "outputs": [
    {
     "name": "stdout",
     "output_type": "stream",
     "text": [
      "문장 단어 개수 최대 값 : 175\n",
      "문장 단어 개수 평균 값 : 11.817455555555556\n",
      "문장 단어 개수 표준편차 : 7.0330805462652854\n",
      "문장 단어 개수 중간값 : 10.0\n",
      "문장 단어 개수 제1사분위 : 7.0\n",
      "문장 단어 개수 제3사분위 : 15.0\n",
      "문장 단어 개수 99 퍼센트 : 35.0\n"
     ]
    }
   ],
   "source": [
    "train_word_counts = train_set.apply(lambda x:len(x.split(' ')))\n",
    "\n",
    "print(f\"문장 단어 개수 최대 값 : {np.max(train_word_counts)}\")\n",
    "print(f\"문장 단어 개수 평균 값 : {np.mean(train_word_counts)}\")\n",
    "print(f\"문장 단어 개수 표준편차 : {np.std(train_word_counts)}\")\n",
    "print(f\"문장 단어 개수 중간값 : {np.median(train_word_counts)}\")\n",
    "print(f\"문장 단어 개수 제1사분위 : {np.percentile(train_word_counts, 25)}\")\n",
    "print(f\"문장 단어 개수 제3사분위 : {np.percentile(train_word_counts, 75)}\")\n",
    "print(f\"문장 단어 개수 99 퍼센트 : {np.percentile(train_word_counts, 99)}\")"
   ]
  },
  {
   "cell_type": "code",
   "execution_count": 7,
   "id": "c5390a7b",
   "metadata": {},
   "outputs": [
    {
     "data": {
      "text/plain": [
       "Text(0, 0.5, 'Probability')"
      ]
     },
     "execution_count": 7,
     "metadata": {},
     "output_type": "execute_result"
    },
    {
     "data": {
      "image/png": "[encoded data removed]",
      "text/plain": [
       "<Figure size 1500x1000 with 1 Axes>"
      ]
     },
     "metadata": {},
     "output_type": "display_data"
    }
   ],
   "source": [
    "plt.figure(figsize=(15,10))\n",
    "plt.hist(train_word_counts, bins=50, range=[0, 50], facecolor='r', label='train')\n",
    "plt.title('Distribution of word count in sentence', fontsize=15)\n",
    "plt.legend()\n",
    "plt.xlabel('Number of words', fontsize=15)\n",
    "plt.ylabel('Probability', fontsize=15)"
   ]
  },
  {
   "cell_type": "code",
   "execution_count": 8,
   "id": "60c7ad46",
   "metadata": {},
   "outputs": [
    {
     "data": {
      "text/plain": [
       "{'whiskers': [<matplotlib.lines.Line2D at 0x28f888227c0>,\n",
       "  <matplotlib.lines.Line2D at 0x28f88822a90>],\n",
       " 'caps': [<matplotlib.lines.Line2D at 0x28f88822d60>,\n",
       "  <matplotlib.lines.Line2D at 0x28f88834070>],\n",
       " 'boxes': [<matplotlib.lines.Line2D at 0x28f888224f0>],\n",
       " 'medians': [<matplotlib.lines.Line2D at 0x28f88834340>],\n",
       " 'fliers': [<matplotlib.lines.Line2D at 0x28f888348e0>],\n",
       " 'means': [<matplotlib.lines.Line2D at 0x28f88834610>]}"
      ]
     },
     "execution_count": 8,
     "metadata": {},
     "output_type": "execute_result"
    },
    {
     "data": {
      "image/png": "[encoded data removed]",
      "text/plain": [
       "<Figure size 1200x500 with 1 Axes>"
      ]
     },
     "metadata": {},
     "output_type": "display_data"
    }
   ],
   "source": [
    "plt.figure(figsize=(12,5))\n",
    "plt.boxplot(train_word_counts, labels=['word_counts'], showmeans=True)"
   ]
  },
  {
   "cell_type": "code",
   "execution_count": 9,
   "id": "1e61cbad",
   "metadata": {
    "scrolled": true
   },
   "outputs": [],
   "source": [
    "tokenizer = BertTokenizer.from_pretrained(\"bert-base-multilingual-cased\", cache_dir=\"bert_ckpt\", do_lower_case=False)"
   ]
  },
  {
   "cell_type": "code",
   "execution_count": 10,
   "id": "c448e962",
   "metadata": {},
   "outputs": [
    {
     "name": "stdout",
     "output_type": "stream",
     "text": [
      "문장 token 개수 최대 값 : 850\n",
      "문장 token 개수 평균 값 : 33.61855555555555\n",
      "문장 token 개수 표준편차 : 22.756686199938347\n",
      "문장 token 개수 중간값 : 28.0\n",
      "문장 token 개수 제1사분위 : 19.0\n",
      "문장 token 개수 제3사분위 : 41.0\n",
      "문장 token 개수 99 퍼센트 : 111.0\n"
     ]
    }
   ],
   "source": [
    "train_bert_token_couonts = train_set.apply(lambda x:len(tokenizer.tokenize(x)))\n",
    "print(f\"문장 token 개수 최대 값 : {np.max(train_bert_token_couonts)}\")\n",
    "print(f\"문장 token 개수 평균 값 : {np.mean(train_bert_token_couonts)}\")\n",
    "print(f\"문장 token 개수 표준편차 : {np.std(train_bert_token_couonts)}\")\n",
    "print(f\"문장 token 개수 중간값 : {np.median(train_bert_token_couonts)}\")\n",
    "print(f\"문장 token 개수 제1사분위 : {np.percentile(train_bert_token_couonts, 25)}\")\n",
    "print(f\"문장 token 개수 제3사분위 : {np.percentile(train_bert_token_couonts, 75)}\")\n",
    "print(f\"문장 token 개수 99 퍼센트 : {np.percentile(train_bert_token_couonts, 99)}\")"
   ]
  },
  {
   "cell_type": "code",
   "execution_count": 11,
   "id": "826edf64",
   "metadata": {},
   "outputs": [
    {
     "data": {
      "text/plain": [
       "{'whiskers': [<matplotlib.lines.Line2D at 0x28f895a1040>,\n",
       "  <matplotlib.lines.Line2D at 0x28f895a1310>],\n",
       " 'caps': [<matplotlib.lines.Line2D at 0x28f895a15e0>,\n",
       "  <matplotlib.lines.Line2D at 0x28f895a18b0>],\n",
       " 'boxes': [<matplotlib.lines.Line2D at 0x28f89590d30>],\n",
       " 'medians': [<matplotlib.lines.Line2D at 0x28f895a1b80>],\n",
       " 'fliers': [<matplotlib.lines.Line2D at 0x28f895ae160>],\n",
       " 'means': [<matplotlib.lines.Line2D at 0x28f895a1e50>]}"
      ]
     },
     "execution_count": 11,
     "metadata": {},
     "output_type": "execute_result"
    },
    {
     "data": {
      "image/png": "[encoded data removed]",
      "text/plain": [
       "<Figure size 1200x500 with 1 Axes>"
      ]
     },
     "metadata": {},
     "output_type": "display_data"
    }
   ],
   "source": [
    "plt.figure(figsize=(12,5))\n",
    "plt.boxplot(train_bert_token_couonts, labels=['counts'], showmeans=True)"
   ]
  },
  {
   "cell_type": "markdown",
   "id": "2890dc13",
   "metadata": {},
   "source": [
    "# NER 데이터 전처리\n",
    "한국어 개체명 인식 데이터를 버트로 학습하려면 데이터 구조를 변경할 필요가 있다. 기존의 학습 데이터 구조의 라벨은 문장의 띄어쓰기 단위로 나눠져 있다. 따라서 버트 토크나이저를 활용하는 경우 기존 데이터 구조와 달라지기 때문에 토큰에 맞게 재배치해야 한다.  \n",
    "-> 기존과 다르게 토큰이 분해되므로 다른 태스크와 다르게 해당 분류에 맞게 각 라벨 데이터를 수정하는 추가 작업이 필요하다. "
   ]
  },
  {
   "cell_type": "code",
   "execution_count": 12,
   "id": "50c36cd0",
   "metadata": {},
   "outputs": [],
   "source": [
    "SEED_NUM = 1234\n",
    "tf.random.set_seed(SEED_NUM)\n",
    "np.random.seed(SEED_NUM)\n",
    "\n",
    "BATCH_SIZE = 32\n",
    "NUM_EPOCHS = 3\n",
    "MAX_LEN = 111   ## EDA에서 추출된 Max Length\n",
    "DATA_IN_PATH = 'C:/BERT/data_in/'\n",
    "DATA_OUT_PATH = 'C:/BERT/data_out/'"
   ]
  },
  {
   "cell_type": "code",
   "execution_count": 13,
   "id": "20903ef4",
   "metadata": {},
   "outputs": [
    {
     "name": "stdout",
     "output_type": "stream",
     "text": [
      "개체명 인식 학습 데이터 개수 : 81000\n",
      "개체명 인식 테스트 데이터 개수 : 9000\n"
     ]
    }
   ],
   "source": [
    "## 데이터 전처리 준비\n",
    "DATA_TRAIN_PATH = os.path.join(DATA_IN_PATH, 'NER', 'train.tsv')\n",
    "DATA_LABEL_PATH = os.path.join(DATA_IN_PATH, 'NER', 'label.txt')\n",
    "DATA_TEST_PATH = os.path.join(DATA_IN_PATH, 'NER', 'test.tsv')\n",
    "\n",
    "def read_file(input_path):\n",
    "    \"\"\"Read tsv file, and return words and label as list\"\"\"\n",
    "    with open(input_path, 'r', encoding='utf-8') as f:\n",
    "        sentences = []\n",
    "        labels = []\n",
    "        for line in f:\n",
    "            split_line = line.strip().split('\\t')\n",
    "            sentences.append(split_line[0])\n",
    "            labels.append(split_line[1])\n",
    "        return sentences, labels\n",
    "\n",
    "train_sentences, train_labels = read_file(DATA_TRAIN_PATH)\n",
    "train_ner_dict = {\"sentence\":train_sentences, \"label\":train_labels}\n",
    "train_ner_df = pd.DataFrame(train_ner_dict)\n",
    "\n",
    "test_sentences, test_labels = read_file(DATA_TEST_PATH)\n",
    "test_ner_dict = {\"sentence\":test_sentences, \"label\":test_labels}\n",
    "test_ner_df = pd.DataFrame(test_ner_dict)\n",
    "\n",
    "print(f'개체명 인식 학습 데이터 개수 : {len(train_ner_df)}')\n",
    "print(f'개체명 인식 테스트 데이터 개수 : {len(test_ner_df)}')"
   ]
  },
  {
   "cell_type": "code",
   "execution_count": 14,
   "id": "da0c6484",
   "metadata": {},
   "outputs": [
    {
     "name": "stdout",
     "output_type": "stream",
     "text": [
      "개체명 인식 라벨 개수 : 30\n"
     ]
    }
   ],
   "source": [
    "# Label 불러오기\n",
    "def get_labels(label_path):\n",
    "    return [\n",
    "        label.strip()\n",
    "        for label in open(os.path.join(label_path), 'r', encoding='utf-8')\n",
    "    ]\n",
    "\n",
    "ner_labels = get_labels(DATA_LABEL_PATH)\n",
    "\n",
    "print(f'개체명 인식 라벨 개수 : {len(ner_labels)}')"
   ]
  },
  {
   "cell_type": "code",
   "execution_count": 15,
   "id": "f825ae5c",
   "metadata": {
    "scrolled": true
   },
   "outputs": [],
   "source": [
    "## 버트 토크나이저 설정\n",
    "tokenizer = BertTokenizer.from_pretrained(\"bert-base-multilingual-cased\", cache_dir=\"bert_ckpt\", do_lower_case=False)\n",
    "\n",
    "pad_token_id = tokenizer.pad_token_id\n",
    "pad_token_label_id = 0\n",
    "cls_token_label_id = 0\n",
    "sep_token_label_id = 0"
   ]
  },
  {
   "cell_type": "code",
   "execution_count": 16,
   "id": "de43a0e9",
   "metadata": {},
   "outputs": [],
   "source": [
    "def bert_tokenizer(sent, MAX_LEN):\n",
    "    encoded_dict = tokenizer.encode_plus(text = sent, add_special_tokens = True, max_length = MAX_LEN, pad_to_max_length = True, return_attention_mask = True, truncation=True)\n",
    "    input_id = encoded_dict['input_ids']\n",
    "    attention_mask = encoded_dict['attention_mask']    \n",
    "    token_type_id = encoded_dict['token_type_ids']\n",
    "    return input_id, attention_mask, token_type_id\n",
    "# (p.413)"
   ]
  },
  {
   "cell_type": "code",
   "execution_count": 17,
   "id": "f1c1d7f6",
   "metadata": {},
   "outputs": [],
   "source": [
    "def convert_label(words, labels_idx, ner_begin_label, max_seq_len):\n",
    "    tokens = []\n",
    "    label_ids = []\n",
    "    for word, slot_label in zip(words, labels_idx):\n",
    "        word_tokens = tokenizer.tokenize(word)\n",
    "        if not word_tokens:\n",
    "            word_tokens = [unk_token]\n",
    "        tokens.extend(word_tokens)\n",
    "        \n",
    "        if int(slot_label) in ner_begin_label:\n",
    "            label_ids.extend([int(slot_label)] + [int(slot_label) + 1] * (len(word_tokens) - 1))\n",
    "        else:\n",
    "            label_ids.extend([int(slot_label)] * len(word_tokens))\n",
    "            \n",
    "    special_tokens_count = 2\n",
    "    if len(label_ids) > max_seq_len - special_tokens_count:\n",
    "        label_ids = label_ids[: (max_seq_len - special_tokens_count)]\n",
    "        \n",
    "    label_ids += [sep_token_label_id]\n",
    "    \n",
    "    label_ids = [cls_token_label_id] + label_ids\n",
    "    \n",
    "    padding_length = max_seq_len - len(label_ids)\n",
    "    label_ids = label_ids + ([pad_token_label_id] * padding_length)\n",
    "    \n",
    "    return label_ids"
   ]
  },
  {
   "cell_type": "code",
   "execution_count": 18,
   "id": "fa4d71bf",
   "metadata": {},
   "outputs": [
    {
     "name": "stderr",
     "output_type": "stream",
     "text": [
      "C:\\Users\\user\\anaconda3\\lib\\site-packages\\transformers\\tokenization_utils_base.py:2304: FutureWarning: The `pad_to_max_length` argument is deprecated and will be removed in a future version, use `padding=True` or `padding='longest'` to pad to the longest sequence in the batch, or use `padding='max_length'` to pad to a max length. In this case, you can give a specific length with `max_length` (e.g. `max_length=45`) or leave max_length to None to pad to the maximal input size of the model (e.g. 512 for Bert).\n",
      "  warnings.warn(\n",
      "C:\\Users\\user\\anaconda3\\lib\\site-packages\\transformers\\tokenization_utils_base.py:2304: FutureWarning: The `pad_to_max_length` argument is deprecated and will be removed in a future version, use `padding=True` or `padding='longest'` to pad to the longest sequence in the batch, or use `padding='max_length'` to pad to a max length. In this case, you can give a specific length with `max_length` (e.g. `max_length=45`) or leave max_length to None to pad to the maximal input size of the model (e.g. 512 for Bert).\n",
      "  warnings.warn(\n"
     ]
    }
   ],
   "source": [
    "ner_begin_label = [ner_labels.index(begin_label) for begin_label in ner_labels if 'B' in begin_label]\n",
    "\n",
    "def create_inputs_targets(df):\n",
    "    input_ids = []\n",
    "    attention_masks = []\n",
    "    token_type_ids = []\n",
    "    label_list = []\n",
    "    \n",
    "    for i, data in enumerate(df[['sentence', 'label']].values):\n",
    "        sentence, labels = data\n",
    "        words = sentence.split()\n",
    "        labels = labels.split()\n",
    "        labels_idx = []\n",
    "        \n",
    "        for label in labels:\n",
    "            labels_idx.append(ner_labels.index(label)\n",
    "                             if label in ner_labels\n",
    "                             else ner_labels.index(\"UNK\"))\n",
    "        assert len(words) == len(labels_idx)\n",
    "        \n",
    "        input_id, attention_mask, token_type_id = bert_tokenizer(sentence, MAX_LEN)\n",
    "        convert_label_id = convert_label(words, labels_idx, ner_begin_label, MAX_LEN)\n",
    "        \n",
    "        input_ids.append(input_id)\n",
    "        attention_masks.append(attention_mask)\n",
    "        token_type_ids.append(token_type_id)\n",
    "        label_list.append(convert_label_id)\n",
    "        \n",
    "    input_ids = np.array(input_ids, dtype=int)\n",
    "    attention_masks = np.array(attention_masks, dtype=int)\n",
    "    token_type_ids = np.array(token_type_ids, dtype=int)\n",
    "    label_list = np.asarray(label_list, dtype=int)   ## 라벨 토크나이징 리스트\n",
    "    inputs = (input_ids, attention_masks, token_type_ids)\n",
    "    \n",
    "    return inputs, label_list\n",
    "\n",
    "train_inputs, train_labels = create_inputs_targets(train_ner_df)\n",
    "test_inputs, test_labels = create_inputs_targets(test_ner_df)"
   ]
  },
  {
   "cell_type": "code",
   "execution_count": null,
   "id": "bfedd921",
   "metadata": {},
   "outputs": [],
   "source": [
    "class TFBertNERClassifier(tf.keras.Model):\n",
    "    def __init__(self, model_name, dir_path, num_class):\n",
    "        super(TFBertNERClassifier, self).__init__()\n",
    "        \n",
    "        self.bert = TFBertModel.from_pretrained(model_name, cache_dir=dir_path)\n",
    "        self.num_class = num_class\n",
    "        self.dropout = tf.keras.layers.Dropout(self.bert.config.hidden_dropout_prob)\n",
    "        self.classifier = tf.keras.layers.Dense(num_class,\n",
    "                                               kernel_initializer=tf.keras.initializers.TruncatedNormal(\n",
    "                                               self.bert.config.initializer_range), name=\"ner_classifier\",)\n",
    "        \n",
    "    def call(self, inputs, attention_mask=None, token_type_ids = None, training=False) :\n",
    "        outputs = self.bert(\n",
    "        inputs, attention_mask=attention_mask, token_type_ids = token_type_ids)\n",
    "        sequence_output = outputs[0]\n",
    "        sequence_output = self.dropout(sequence_output, training=training)\n",
    "        logits = self.classifier(sequence_output)\n",
    "        \n",
    "        return logits\n",
    "    \n",
    "ner_model = TFBertNERClassifier(model_name='bert-base-multilingual-cased', dir_path='bert_ckpt', num_class=len(ner_labels))"
   ]
  },
  {
   "cell_type": "code",
   "execution_count": null,
   "id": "d5f85775",
   "metadata": {},
   "outputs": [],
   "source": [
    "def compute_loss(labels, logits):\n",
    "    loss_fn = tf.keras.losses.SparseCategoricalCrossentropy(\n",
    "    from_logits=True, reduction=tf.keras.losses.Reduction.NONE)\n",
    "    active_loss = tf.reshape(labels, (-1,)) != 0\n",
    "    reduced_logits = tf.boolean_mask(tf.reshape(logits, (-1, shape_list[2]))\n",
    "                                    )"
   ]
  },
  {
   "cell_type": "code",
   "execution_count": null,
   "id": "e2fab4fc",
   "metadata": {},
   "outputs": [],
   "source": []
  },
  {
   "cell_type": "code",
   "execution_count": null,
   "id": "e8e66c1a",
   "metadata": {},
   "outputs": [],
   "source": []
  }
 ],
 "metadata": {
  "kernelspec": {
   "display_name": "Python 3 (ipykernel)",
   "language": "python",
   "name": "python3"
  },
  "language_info": {
   "codemirror_mode": {
    "name": "ipython",
    "version": 3
   },
   "file_extension": ".py",
   "mimetype": "text/x-python",
   "name": "python",
   "nbconvert_exporter": "python",
   "pygments_lexer": "ipython3",
   "version": "3.9.15"
  }
 },
 "nbformat": 4,
 "nbformat_minor": 5
}
